{
 "cells": [
  {
   "cell_type": "code",
   "execution_count": 1,
   "metadata": {
    "id": "Wt7XoXii4l_e"
   },
   "outputs": [],
   "source": [
    "import pandas as pd\n",
    "import matplotlib.pyplot as plt"
   ]
  },
  {
   "cell_type": "markdown",
   "metadata": {
    "id": "JwiMWPF8ETub"
   },
   "source": [
    "# after"
   ]
  },
  {
   "cell_type": "code",
   "execution_count": null,
   "metadata": {
    "colab": {
     "base_uri": "https://localhost:8080/"
    },
    "id": "9NQlHtQo4o3P",
    "outputId": "8c1759f5-bbae-4a30-d2ed-591a5a8dd756"
   },
   "outputs": [],
   "source": [
    "after = pd.read_csv('./data/after_vital_ventset_gcs_abga.csv')"
   ]
  },
  {
   "cell_type": "code",
   "execution_count": null,
   "metadata": {
    "id": "Wh36VpFFKTLL"
   },
   "outputs": [],
   "source": [
    "# 삽관 중에 변수가 없는 행 제외\n",
    "after = data[~(data[['heart_rate', 'sbp', 'dbp', 'mbp', 'resp_rate',\n",
    "       'temperature', 'temperature_site', 'spo2', 'glucose',\n",
    "       'respiratory_rate_set', 'respiratory_rate_total',\n",
    "       'respiratory_rate_spontaneous', 'minute_volume', 'tidal_volume_set',\n",
    "       'tidal_volume_observed', 'tidal_volume_spontaneous', 'plateau_pressure',\n",
    "       'peep', 'fio2', 'flow_rate', 'ventilator_mode',\n",
    "       'ventilator_mode_hamilton', 'ventilator_type', 'ventilator_scoring',\n",
    "       'gcs', 'gcs_motor', 'gcs_verbal', 'gcs_eyes', 'gcs_unable', 'pCO2',\n",
    "       'pO2', 'SaO2', 'HCO3-', 'pH', 'Base excess']].isna().sum(axis = 1) == 35)]"
   ]
  },
  {
   "cell_type": "code",
   "execution_count": null,
   "metadata": {
    "id": "Z8hiIFvDFXjh"
   },
   "outputs": [],
   "source": [
    "after = after.drop(columns = ['admittime', 'dischtime', 'intubationtime', 'extubationtime', 'charttime','subject_id', 'hadm_id', 'stay_id','Unnamed: 0','class_code'])"
   ]
  },
  {
   "cell_type": "code",
   "execution_count": null,
   "metadata": {
    "id": "FJUWbNnrTCjE"
   },
   "outputs": [],
   "source": [
    "# 데이터 타입이 object인 컬럼 제외\n",
    "after = after.drop(columns = ['ventilator_mode', 'ventilator_mode_hamilton', 'ventilator_type', 'temperature_site', 'extubationcause','mvtime_state'])"
   ]
  },
  {
   "cell_type": "code",
   "execution_count": null,
   "metadata": {
    "colab": {
     "base_uri": "https://localhost:8080/",
     "height": 523
    },
    "id": "d24KEqBNXBno",
    "outputId": "20891118-0409-4e1e-8eec-6d2b30915225"
   },
   "outputs": [
    {
     "data": {
      "text/plain": [
       "<AxesSubplot:xlabel='class'>"
      ]
     },
     "execution_count": 45,
     "metadata": {},
     "output_type": "execute_result"
    },
    {
     "data": {
      "image/png": "[encoded data removed]",
      "text/plain": [
       "<Figure size 640x480 with 1 Axes>"
      ]
     },
     "metadata": {},
     "output_type": "display_data"
    }
   ],
   "source": [
    "after['class'].value_counts().plot(kind = 'bar', edgecolor = 'k', alpha = 0.7)\n"
   ]
  },
  {
   "cell_type": "code",
   "execution_count": null,
   "metadata": {
    "id": "ur1zj64jYr0U"
   },
   "outputs": [],
   "source": [
    "# class가 nan인 건 제외\n",
    "after = after[~(after['class'].isna())]"
   ]
  },
  {
   "cell_type": "code",
   "execution_count": null,
   "metadata": {
    "id": "l2EWMAI0AB7U"
   },
   "outputs": [],
   "source": [
    "# gender 맵핑\n",
    "mapping_dict_gender = {'F':1,'M':0}\n",
    "after.gender = after.gender.apply(lambda x : mapping_dict_gender[x])"
   ]
  },
  {
   "cell_type": "code",
   "execution_count": null,
   "metadata": {
    "id": "5VV800X4K7KX"
   },
   "outputs": [],
   "source": [
    "# class 맵핑\n",
    "mapping_dict_class = {'failure':0, 'nonfailure':1, 'death': 2}\n",
    "after['class'] = after['class'].apply(lambda x : mapping_dict_class[x])"
   ]
  },
  {
   "cell_type": "code",
   "execution_count": null,
   "metadata": {
    "id": "DSXdAZsdCIOA"
   },
   "outputs": [],
   "source": [
    "after['class'] = after['class'].astype('category')"
   ]
  },
  {
   "cell_type": "code",
   "execution_count": null,
   "metadata": {
    "id": "v1U6XxUIXWe3"
   },
   "outputs": [],
   "source": [
    "# 결측치 0으로 채움\n",
    "\n",
    "after = after.fillna(0)"
   ]
  },
  {
   "cell_type": "code",
   "execution_count": null,
   "metadata": {
    "colab": {
     "base_uri": "https://localhost:8080/"
    },
    "id": "Xb5cqCQKB7nQ",
    "outputId": "831ff68b-7a80-419f-d070-c6c439510589"
   },
   "outputs": [
    {
     "name": "stdout",
     "output_type": "stream",
     "text": [
      "<class 'pandas.core.frame.DataFrame'>\n",
      "Index: 878683 entries, 0 to 901658\n",
      "Data columns (total 36 columns):\n",
      " #   Column                        Non-Null Count   Dtype   \n",
      "---  ------                        --------------   -----   \n",
      " 0   los                           878683 non-null  float64 \n",
      " 1   gender                        878683 non-null  category\n",
      " 2   mvtime                        878683 non-null  float64 \n",
      " 3   seq_num                       878683 non-null  int64   \n",
      " 4   class                         878683 non-null  category\n",
      " 5   heart_rate                    878683 non-null  float64 \n",
      " 6   sbp                           878683 non-null  float64 \n",
      " 7   dbp                           878683 non-null  float64 \n",
      " 8   mbp                           878683 non-null  float64 \n",
      " 9   resp_rate                     878683 non-null  float64 \n",
      " 10  temperature                   878683 non-null  float64 \n",
      " 11  spo2                          878683 non-null  float64 \n",
      " 12  glucose                       878683 non-null  float64 \n",
      " 13  respiratory_rate_set          878683 non-null  float64 \n",
      " 14  respiratory_rate_total        878683 non-null  float64 \n",
      " 15  respiratory_rate_spontaneous  878683 non-null  float64 \n",
      " 16  minute_volume                 878683 non-null  float64 \n",
      " 17  tidal_volume_set              878683 non-null  float64 \n",
      " 18  tidal_volume_observed         878683 non-null  float64 \n",
      " 19  tidal_volume_spontaneous      878683 non-null  float64 \n",
      " 20  plateau_pressure              878683 non-null  float64 \n",
      " 21  peep                          878683 non-null  float64 \n",
      " 22  fio2                          878683 non-null  float64 \n",
      " 23  flow_rate                     878683 non-null  float64 \n",
      " 24  ventilator_scoring            878683 non-null  float64 \n",
      " 25  gcs                           878683 non-null  float64 \n",
      " 26  gcs_motor                     878683 non-null  float64 \n",
      " 27  gcs_verbal                    878683 non-null  float64 \n",
      " 28  gcs_eyes                      878683 non-null  float64 \n",
      " 29  gcs_unable                    878683 non-null  float64 \n",
      " 30  pCO2                          878683 non-null  float64 \n",
      " 31  pO2                           878683 non-null  float64 \n",
      " 32  SaO2                          878683 non-null  float64 \n",
      " 33  HCO3-                         878683 non-null  float64 \n",
      " 34  pH                            878683 non-null  float64 \n",
      " 35  Base excess                   878683 non-null  float64 \n",
      "dtypes: category(2), float64(33), int64(1)\n",
      "memory usage: 236.3 MB\n"
     ]
    }
   ],
   "source": [
    "after.info()"
   ]
  },
  {
   "cell_type": "markdown",
   "metadata": {
    "id": "KJdRvvc4ERcZ"
   },
   "source": [
    "## model"
   ]
  },
  {
   "cell_type": "code",
   "execution_count": null,
   "metadata": {
    "colab": {
     "base_uri": "https://localhost:8080/"
    },
    "id": "ZL8l7a8K9a7L",
    "outputId": "97264cc4-63c8-4577-df36-a281ff2fae1e"
   },
   "outputs": [
    {
     "name": "stdout",
     "output_type": "stream",
     "text": [
      "(878683, 35) (878683,)\n"
     ]
    }
   ],
   "source": [
    "#target 과 X 를 분리함.\n",
    "X = after.drop(columns=\"class\", axis=1)\n",
    "y = after['class']\n",
    "print(X.shape, y.shape)"
   ]
  },
  {
   "cell_type": "code",
   "execution_count": 53,
   "metadata": {
    "colab": {
     "base_uri": "https://localhost:8080/"
    },
    "id": "HHxeIUmUTvnh",
    "outputId": "4e6b921e-ef80-4e10-dfc6-0e5171872808"
   },
   "outputs": [
    {
     "name": "stdout",
     "output_type": "stream",
     "text": [
      "(702946, 35) (175737, 35) (702946,) (175737,)\n"
     ]
    }
   ],
   "source": [
    "from sklearn.model_selection import train_test_split\n",
    "seed = 88\n",
    "\n",
    "X_train, X_test, y_train, y_test = train_test_split(X, y, test_size=0.2, random_state=seed, stratify = y)\n",
    "print(X_train.shape, X_test.shape, y_train.shape, y_test.shape)"
   ]
  },
  {
   "cell_type": "code",
   "execution_count": 71,
   "metadata": {},
   "outputs": [
    {
     "name": "stdout",
     "output_type": "stream",
     "text": [
      "<class 'pandas.core.frame.DataFrame'>\n",
      "Index: 702946 entries, 544960 to 227350\n",
      "Data columns (total 35 columns):\n",
      " #   Column                        Non-Null Count   Dtype   \n",
      "---  ------                        --------------   -----   \n",
      " 0   los                           702946 non-null  float64 \n",
      " 1   gender                        702946 non-null  category\n",
      " 2   mvtime                        702946 non-null  float64 \n",
      " 3   seq_num                       702946 non-null  int64   \n",
      " 4   heart_rate                    702946 non-null  float64 \n",
      " 5   sbp                           702946 non-null  float64 \n",
      " 6   dbp                           702946 non-null  float64 \n",
      " 7   mbp                           702946 non-null  float64 \n",
      " 8   resp_rate                     702946 non-null  float64 \n",
      " 9   temperature                   702946 non-null  float64 \n",
      " 10  spo2                          702946 non-null  float64 \n",
      " 11  glucose                       702946 non-null  float64 \n",
      " 12  respiratory_rate_set          702946 non-null  float64 \n",
      " 13  respiratory_rate_total        702946 non-null  float64 \n",
      " 14  respiratory_rate_spontaneous  702946 non-null  float64 \n",
      " 15  minute_volume                 702946 non-null  float64 \n",
      " 16  tidal_volume_set              702946 non-null  float64 \n",
      " 17  tidal_volume_observed         702946 non-null  float64 \n",
      " 18  tidal_volume_spontaneous      702946 non-null  float64 \n",
      " 19  plateau_pressure              702946 non-null  float64 \n",
      " 20  peep                          702946 non-null  float64 \n",
      " 21  fio2                          702946 non-null  float64 \n",
      " 22  flow_rate                     702946 non-null  float64 \n",
      " 23  ventilator_scoring            702946 non-null  float64 \n",
      " 24  gcs                           702946 non-null  float64 \n",
      " 25  gcs_motor                     702946 non-null  float64 \n",
      " 26  gcs_verbal                    702946 non-null  float64 \n",
      " 27  gcs_eyes                      702946 non-null  float64 \n",
      " 28  gcs_unable                    702946 non-null  float64 \n",
      " 29  pCO2                          702946 non-null  float64 \n",
      " 30  pO2                           702946 non-null  float64 \n",
      " 31  SaO2                          702946 non-null  float64 \n",
      " 32  HCO3-                         702946 non-null  float64 \n",
      " 33  pH                            702946 non-null  float64 \n",
      " 34  Base excess                   702946 non-null  float64 \n",
      "dtypes: category(1), float64(33), int64(1)\n",
      "memory usage: 188.4 MB\n"
     ]
    }
   ],
   "source": [
    "X_train.info()"
   ]
  },
  {
   "cell_type": "code",
   "execution_count": 55,
   "metadata": {
    "colab": {
     "base_uri": "https://localhost:8080/"
    },
    "id": "kSi3Y320Tw-T",
    "outputId": "a8ab3b56-fb1e-46b4-cc5a-1a9fb163cce0"
   },
   "outputs": [
    {
     "name": "stdout",
     "output_type": "stream",
     "text": [
      "(1285257, 35) (321315, 35) (1285257,) (321315,)\n"
     ]
    }
   ],
   "source": [
    "# smote\n",
    "from imblearn.over_sampling import SMOTE\n",
    "\n",
    "X_resampled, y_resampled = SMOTE(random_state=seed).fit_resample(X, y)\n",
    "\n",
    "X_train_smote, X_test_smote, y_train_smote, y_test_smote = train_test_split(X_resampled, y_resampled, test_size=0.2, random_state=seed)\n",
    "print(X_train_smote.shape, X_test_smote.shape, y_train_smote.shape, y_test_smote.shape)"
   ]
  },
  {
   "cell_type": "code",
   "execution_count": 56,
   "metadata": {
    "colab": {
     "base_uri": "https://localhost:8080/"
    },
    "id": "1-uYJkSCUDvm",
    "outputId": "c7cc840d-31e3-42a6-f924-99eaaa5083bd"
   },
   "outputs": [
    {
     "name": "stdout",
     "output_type": "stream",
     "text": [
      "(181915, 35) (45479, 35) (181915,) (45479,)\n"
     ]
    }
   ],
   "source": [
    "# under\n",
    "from imblearn.under_sampling import RandomUnderSampler\n",
    "\n",
    "X_resampled, y_resampled = RandomUnderSampler(random_state=seed).fit_resample(X, y)\n",
    "\n",
    "X_train_under, X_test_under, y_train_under, y_test_under = train_test_split(X_resampled, y_resampled, test_size=0.2, random_state=seed)\n",
    "print(X_train_under.shape, X_test_under.shape, y_train_under.shape, y_test_under.shape)"
   ]
  },
  {
   "cell_type": "code",
   "execution_count": 57,
   "metadata": {
    "id": "AYtCxzfM81o2"
   },
   "outputs": [
    {
     "name": "stdout",
     "output_type": "stream",
     "text": [
      "Class=0, n=75798 (33.333%)\n",
      "Class=1, n=75798 (33.333%)\n",
      "Class=2, n=75798 (33.333%)\n"
     ]
    },
    {
     "data": {
      "image/png": "[encoded data removed]",
      "text/plain": [
       "<Figure size 640x480 with 1 Axes>"
      ]
     },
     "metadata": {},
     "output_type": "display_data"
    }
   ],
   "source": [
    "from collections import Counter\n",
    "from matplotlib import pyplot\n",
    "\n",
    "def count_and_plot(y):\n",
    "    counter = Counter(y)\n",
    "    for k,v in counter.items():\n",
    "        print('Class=%d, n=%d (%.3f%%)' % (k, v, v / len(y) * 100))\n",
    "    pyplot.bar(counter.keys(), counter.values())\n",
    "    pyplot.show()\n",
    "\n",
    "count_and_plot(y_resampled)"
   ]
  },
  {
   "cell_type": "markdown",
   "metadata": {
    "id": "GW8hjAraTY6F"
   },
   "source": [
    "### LGBClassifier"
   ]
  },
  {
   "cell_type": "code",
   "execution_count": 59,
   "metadata": {
    "colab": {
     "base_uri": "https://localhost:8080/"
    },
    "id": "hAsU-x7TDx-K",
    "outputId": "135e838d-1825-4cf9-9455-4d7a1a73f88c"
   },
   "outputs": [
    {
     "name": "stdout",
     "output_type": "stream",
     "text": [
      "[LightGBM] [Warning] Found whitespace in feature_names, replace with underlines\n",
      "[LightGBM] [Info] Auto-choosing row-wise multi-threading, the overhead of testing was 0.074491 seconds.\n",
      "You can set `force_row_wise=true` to remove the overhead.\n",
      "And if memory is not enough, you can set `force_col_wise=true`.\n",
      "[LightGBM] [Info] Total Bins 4076\n",
      "[LightGBM] [Info] Number of data points in the train set: 702946, number of used features: 35\n",
      "[LightGBM] [Info] Start training from score -0.495178\n",
      "[LightGBM] [Info] Start training from score -1.189823\n",
      "[LightGBM] [Info] Start training from score -2.450358\n",
      "              precision    recall  f1-score   support\n",
      "\n",
      "           0       0.75      0.92      0.83    107105\n",
      "           1       0.69      0.46      0.55     53472\n",
      "           2       0.80      0.48      0.60     15160\n",
      "\n",
      "    accuracy                           0.74    175737\n",
      "   macro avg       0.75      0.62      0.66    175737\n",
      "weighted avg       0.74      0.74      0.72    175737\n",
      "\n"
     ]
    }
   ],
   "source": [
    "from lightgbm.sklearn import LGBMClassifier\n",
    "from sklearn.metrics import classification_report\n",
    "\n",
    "lgb = LGBMClassifier(random_state = seed)\n",
    "lgb.fit(X_train, y_train)\n",
    "\n",
    "pred_lgb = lgb.predict(X_test)\n",
    "print(classification_report(y_test, pred_lgb)) # 0.74"
   ]
  },
  {
   "cell_type": "code",
   "execution_count": 60,
   "metadata": {
    "colab": {
     "base_uri": "https://localhost:8080/"
    },
    "id": "cQQQPO5bEW2n",
    "outputId": "53eff0be-a77c-4ce2-91fa-dc147bd7a335"
   },
   "outputs": [
    {
     "name": "stdout",
     "output_type": "stream",
     "text": [
      "[LightGBM] [Warning] Found whitespace in feature_names, replace with underlines\n",
      "[LightGBM] [Info] Auto-choosing row-wise multi-threading, the overhead of testing was 0.186669 seconds.\n",
      "You can set `force_row_wise=true` to remove the overhead.\n",
      "And if memory is not enough, you can set `force_col_wise=true`.\n",
      "[LightGBM] [Info] Total Bins 8454\n",
      "[LightGBM] [Info] Number of data points in the train set: 1285257, number of used features: 35\n",
      "[LightGBM] [Info] Start training from score -1.098636\n",
      "[LightGBM] [Info] Start training from score -1.099563\n",
      "[LightGBM] [Info] Start training from score -1.097639\n",
      "              precision    recall  f1-score   support\n",
      "\n",
      "           0       0.71      0.83      0.77    107115\n",
      "           1       0.70      0.59      0.64    107512\n",
      "           2       0.82      0.81      0.81    106688\n",
      "\n",
      "    accuracy                           0.74    321315\n",
      "   macro avg       0.74      0.74      0.74    321315\n",
      "weighted avg       0.74      0.74      0.74    321315\n",
      "\n"
     ]
    }
   ],
   "source": [
    "# smote\n",
    "lgb = LGBMClassifier(random_state = seed)\n",
    "lgb.fit(X_train_smote, y_train_smote)\n",
    "\n",
    "pred_lgb_smote = lgb.predict(X_test_smote)\n",
    "print(classification_report(y_test_smote, pred_lgb_smote)) #  0.74"
   ]
  },
  {
   "cell_type": "code",
   "execution_count": 61,
   "metadata": {
    "colab": {
     "base_uri": "https://localhost:8080/"
    },
    "id": "p_zIZjuyU35w",
    "outputId": "d9e9282f-b7fe-47dd-902d-fd48db7675f1"
   },
   "outputs": [
    {
     "name": "stdout",
     "output_type": "stream",
     "text": [
      "[LightGBM] [Warning] Found whitespace in feature_names, replace with underlines\n",
      "[LightGBM] [Info] Auto-choosing row-wise multi-threading, the overhead of testing was 0.018715 seconds.\n",
      "You can set `force_row_wise=true` to remove the overhead.\n",
      "And if memory is not enough, you can set `force_col_wise=true`.\n",
      "[LightGBM] [Info] Total Bins 4116\n",
      "[LightGBM] [Info] Number of data points in the train set: 181915, number of used features: 35\n",
      "[LightGBM] [Info] Start training from score -1.097530\n",
      "[LightGBM] [Info] Start training from score -1.099327\n",
      "[LightGBM] [Info] Start training from score -1.098981\n",
      "              precision    recall  f1-score   support\n",
      "\n",
      "           0       0.66      0.74      0.70     15094\n",
      "           1       0.65      0.56      0.60     15203\n",
      "           2       0.79      0.81      0.80     15182\n",
      "\n",
      "    accuracy                           0.70     45479\n",
      "   macro avg       0.70      0.70      0.70     45479\n",
      "weighted avg       0.70      0.70      0.70     45479\n",
      "\n"
     ]
    }
   ],
   "source": [
    "# under\n",
    "lgb = LGBMClassifier(random_state = seed)\n",
    "lgb.fit(X_train_under, y_train_under)\n",
    "\n",
    "pred_lgb_under = lgb.predict(X_test_under)\n",
    "print(classification_report(y_test_under, pred_lgb_under)) # 0.70"
   ]
  },
  {
   "cell_type": "markdown",
   "metadata": {
    "id": "ETUy54SkTciL"
   },
   "source": [
    "### RandomForestClassifier"
   ]
  },
  {
   "cell_type": "code",
   "execution_count": 62,
   "metadata": {
    "colab": {
     "base_uri": "https://localhost:8080/"
    },
    "id": "y7xKSKty8QMQ",
    "outputId": "f1da2ff8-a3e7-418d-8e3f-194a4158237b"
   },
   "outputs": [
    {
     "name": "stdout",
     "output_type": "stream",
     "text": [
      "              precision    recall  f1-score   support\n",
      "\n",
      "           0       0.87      0.96      0.92    107105\n",
      "           1       0.89      0.75      0.82     53472\n",
      "           2       0.94      0.74      0.83     15160\n",
      "\n",
      "    accuracy                           0.88    175737\n",
      "   macro avg       0.90      0.82      0.85    175737\n",
      "weighted avg       0.88      0.88      0.88    175737\n",
      "\n"
     ]
    }
   ],
   "source": [
    "# 아무것도 안 함\n",
    "from sklearn.ensemble import RandomForestClassifier\n",
    "from sklearn.metrics import classification_report\n",
    "\n",
    "rf = RandomForestClassifier(random_state = seed)\n",
    "rf.fit(X_train, y_train)\n",
    "\n",
    "pred_rf = rf.predict(X_test)\n",
    "print(classification_report(y_test, pred_rf)) # 0.88"
   ]
  },
  {
   "cell_type": "code",
   "execution_count": 63,
   "metadata": {
    "colab": {
     "base_uri": "https://localhost:8080/"
    },
    "id": "xhL5j9zTXNhW",
    "outputId": "7de38913-9f75-43a8-9253-590473b76a07"
   },
   "outputs": [
    {
     "name": "stdout",
     "output_type": "stream",
     "text": [
      "              precision    recall  f1-score   support\n",
      "\n",
      "           0       0.89      0.93      0.90    107115\n",
      "           1       0.90      0.86      0.88    107512\n",
      "           2       0.95      0.95      0.95    106688\n",
      "\n",
      "    accuracy                           0.91    321315\n",
      "   macro avg       0.91      0.91      0.91    321315\n",
      "weighted avg       0.91      0.91      0.91    321315\n",
      "\n"
     ]
    }
   ],
   "source": [
    "# smote\n",
    "rf = RandomForestClassifier(random_state = seed)\n",
    "rf.fit(X_train_smote, y_train_smote)\n",
    "\n",
    "pred_rf_smote = rf.predict(X_test_smote)\n",
    "print(classification_report(y_test_smote, pred_rf_smote)) # 0.91"
   ]
  },
  {
   "cell_type": "code",
   "execution_count": 64,
   "metadata": {
    "colab": {
     "base_uri": "https://localhost:8080/"
    },
    "id": "1sOxq0-Hj4Tg",
    "outputId": "3b8d0d3b-812d-423d-a053-28fe7ff96524"
   },
   "outputs": [
    {
     "name": "stdout",
     "output_type": "stream",
     "text": [
      "              precision    recall  f1-score   support\n",
      "\n",
      "           0       0.76      0.79      0.77     15094\n",
      "           1       0.76      0.71      0.74     15203\n",
      "           2       0.87      0.89      0.88     15182\n",
      "\n",
      "    accuracy                           0.80     45479\n",
      "   macro avg       0.80      0.80      0.80     45479\n",
      "weighted avg       0.80      0.80      0.80     45479\n",
      "\n"
     ]
    }
   ],
   "source": [
    "# under\n",
    "rf = RandomForestClassifier(random_state = seed)\n",
    "rf.fit(X_train_under, y_train_under)\n",
    "\n",
    "pred_rf_under = rf.predict(X_test_under)\n",
    "print(classification_report(y_test_under, pred_rf_under)) # 0.80"
   ]
  },
  {
   "cell_type": "code",
   "execution_count": 65,
   "metadata": {
    "colab": {
     "base_uri": "https://localhost:8080/"
    },
    "id": "QsBeJInWbmAO",
    "outputId": "6896624e-6d53-434c-b5e9-c465c1de6fa4"
   },
   "outputs": [
    {
     "name": "stdout",
     "output_type": "stream",
     "text": [
      "              precision    recall  f1-score   support\n",
      "\n",
      "           0       0.86      0.96      0.91    107105\n",
      "           1       0.88      0.73      0.80     53472\n",
      "           2       0.93      0.73      0.82     15160\n",
      "\n",
      "    accuracy                           0.87    175737\n",
      "   macro avg       0.89      0.81      0.84    175737\n",
      "weighted avg       0.87      0.87      0.87    175737\n",
      "\n"
     ]
    }
   ],
   "source": [
    "# Cost sensitive\n",
    "weights = {0:1.0, 1:1.5, 2:2.0}\n",
    "rf = RandomForestClassifier(random_state = seed, class_weight=weights)\n",
    "rf.fit(X_train, y_train)\n",
    "\n",
    "pred_rf = rf.predict(X_test)\n",
    "print(classification_report(y_test, pred_rf)) # 0.87"
   ]
  },
  {
   "cell_type": "markdown",
   "metadata": {
    "id": "WtaoB7KFTiHB"
   },
   "source": [
    "### XGBoost"
   ]
  },
  {
   "cell_type": "code",
   "execution_count": 72,
   "metadata": {
    "colab": {
     "base_uri": "https://localhost:8080/"
    },
    "id": "DU4-vpBfLtp6",
    "outputId": "35ef63ba-abb8-49af-bebb-f6a6b90d8222"
   },
   "outputs": [
    {
     "name": "stdout",
     "output_type": "stream",
     "text": [
      "              precision    recall  f1-score   support\n",
      "\n",
      "           0       0.78      0.93      0.85    107105\n",
      "           1       0.74      0.53      0.62     53472\n",
      "           2       0.86      0.57      0.68     15160\n",
      "\n",
      "    accuracy                           0.78    175737\n",
      "   macro avg       0.79      0.67      0.72    175737\n",
      "weighted avg       0.77      0.78      0.76    175737\n",
      "\n"
     ]
    }
   ],
   "source": [
    "# XGBBoost\n",
    "from xgboost.sklearn import XGBClassifier\n",
    "\n",
    "xgb = XGBClassifier(random_state = seed, enable_categorical= True)\n",
    "xgb.fit(X_train, y_train)\n",
    "\n",
    "pred_xgb = xgb.predict(X_test)\n",
    "print(classification_report(y_test, pred_xgb)) # 0.78"
   ]
  },
  {
   "cell_type": "code",
   "execution_count": 74,
   "metadata": {
    "colab": {
     "base_uri": "https://localhost:8080/"
    },
    "id": "fWNbaoaCP-iF",
    "outputId": "6e2877da-138e-4f58-f1d9-6eaeb554f826"
   },
   "outputs": [
    {
     "name": "stdout",
     "output_type": "stream",
     "text": [
      "              precision    recall  f1-score   support\n",
      "\n",
      "           0       0.75      0.85      0.80    107115\n",
      "           1       0.75      0.65      0.69    107512\n",
      "           2       0.85      0.84      0.85    106688\n",
      "\n",
      "    accuracy                           0.78    321315\n",
      "   macro avg       0.78      0.78      0.78    321315\n",
      "weighted avg       0.78      0.78      0.78    321315\n",
      "\n"
     ]
    }
   ],
   "source": [
    "# smote\n",
    "xgb = XGBClassifier(random_state = seed, enable_categorical =  True)\n",
    "xgb.fit(X_train_smote, y_train_smote)\n",
    "\n",
    "pred_xgb_smote = xgb.predict(X_test_smote)\n",
    "print(classification_report(y_test_smote, pred_xgb_smote)) #  0.77"
   ]
  },
  {
   "cell_type": "code",
   "execution_count": 75,
   "metadata": {
    "colab": {
     "base_uri": "https://localhost:8080/"
    },
    "id": "nwOHUYtLUoWq",
    "outputId": "a420b353-3cf7-42a0-8605-c76d4340390d"
   },
   "outputs": [
    {
     "name": "stdout",
     "output_type": "stream",
     "text": [
      "              precision    recall  f1-score   support\n",
      "\n",
      "           0       0.71      0.76      0.73     15094\n",
      "           1       0.70      0.64      0.67     15203\n",
      "           2       0.84      0.85      0.85     15182\n",
      "\n",
      "    accuracy                           0.75     45479\n",
      "   macro avg       0.75      0.75      0.75     45479\n",
      "weighted avg       0.75      0.75      0.75     45479\n",
      "\n"
     ]
    }
   ],
   "source": [
    "# under\n",
    "xgb = XGBClassifier(random_state = seed, enable_categorical = True)\n",
    "xgb.fit(X_train_under, y_train_under)\n",
    "\n",
    "pred_xgb_under = xgb.predict(X_test_under)\n",
    "print(classification_report(y_test_under, pred_xgb_under)) # 0.75"
   ]
  },
  {
   "cell_type": "markdown",
   "metadata": {
    "id": "9OL6d-_RksR3"
   },
   "source": [
    "# before"
   ]
  },
  {
   "cell_type": "code",
   "execution_count": 3,
   "metadata": {
    "id": "HoiMfYEuktIp"
   },
   "outputs": [],
   "source": [
    "before = pd.read_csv('./data/before_vital_ventset_gcs_abga.csv')"
   ]
  },
  {
   "cell_type": "code",
   "execution_count": 4,
   "metadata": {
    "colab": {
     "base_uri": "https://localhost:8080/"
    },
    "id": "zP7K2sU9l2vv",
    "outputId": "863e78ce-fff2-4b01-bc3f-f7b35a6b4cf2"
   },
   "outputs": [
    {
     "name": "stdout",
     "output_type": "stream",
     "text": [
      "<class 'pandas.core.frame.DataFrame'>\n",
      "RangeIndex: 572622 entries, 0 to 572621\n",
      "Data columns (total 52 columns):\n",
      " #   Column                        Non-Null Count   Dtype  \n",
      "---  ------                        --------------   -----  \n",
      " 0   Unnamed: 0                    572622 non-null  int64  \n",
      " 1   subject_id                    572622 non-null  int64  \n",
      " 2   hadm_id                       572622 non-null  int64  \n",
      " 3   stay_id                       572622 non-null  float64\n",
      " 4   los                           572622 non-null  float64\n",
      " 5   gender                        572622 non-null  object \n",
      " 6   admittime                     544696 non-null  object \n",
      " 7   dischtime                     572622 non-null  object \n",
      " 8   intubationtime                572622 non-null  object \n",
      " 9   extubationtime                572622 non-null  object \n",
      " 10  extubationcause               412569 non-null  object \n",
      " 11  mvtime                        544696 non-null  float64\n",
      " 12  seq_num                       572622 non-null  int64  \n",
      " 13  mvtime_state                  544696 non-null  object \n",
      " 14  class_code                    572622 non-null  int64  \n",
      " 15  class                         572622 non-null  object \n",
      " 16  charttime                     572622 non-null  object \n",
      " 17  heart_rate                    358206 non-null  float64\n",
      " 18  sbp                           349232 non-null  float64\n",
      " 19  dbp                           349191 non-null  float64\n",
      " 20  mbp                           365878 non-null  float64\n",
      " 21  resp_rate                     361867 non-null  float64\n",
      " 22  temperature                   101015 non-null  float64\n",
      " 23  temperature_site              105012 non-null  object \n",
      " 24  spo2                          351479 non-null  float64\n",
      " 25  glucose                       74283 non-null   float64\n",
      " 26  respiratory_rate_set          35196 non-null   float64\n",
      " 27  respiratory_rate_total        62614 non-null   float64\n",
      " 28  respiratory_rate_spontaneous  70557 non-null   float64\n",
      " 29  minute_volume                 74085 non-null   float64\n",
      " 30  tidal_volume_set              33691 non-null   float64\n",
      " 31  tidal_volume_observed         71328 non-null   float64\n",
      " 32  tidal_volume_spontaneous      44659 non-null   float64\n",
      " 33  plateau_pressure              20993 non-null   float64\n",
      " 34  peep                          79901 non-null   float64\n",
      " 35  fio2                          87770 non-null   float64\n",
      " 36  flow_rate                     17786 non-null   float64\n",
      " 37  ventilator_mode               59368 non-null   object \n",
      " 38  ventilator_mode_hamilton      20234 non-null   object \n",
      " 39  ventilator_type               68723 non-null   object \n",
      " 40  ventilator_scoring            79117 non-null   float64\n",
      " 41  gcs                           84983 non-null   float64\n",
      " 42  gcs_motor                     84657 non-null   float64\n",
      " 43  gcs_verbal                    84777 non-null   float64\n",
      " 44  gcs_eyes                      84884 non-null   float64\n",
      " 45  gcs_unable                    84983 non-null   float64\n",
      " 46  pCO2                          32494 non-null   float64\n",
      " 47  pO2                           32507 non-null   float64\n",
      " 48  SaO2                          11318 non-null   float64\n",
      " 49  HCO3-                         25085 non-null   float64\n",
      " 50  pH                            33974 non-null   float64\n",
      " 51  Base excess                   32494 non-null   float64\n",
      "dtypes: float64(34), int64(5), object(13)\n",
      "memory usage: 227.2+ MB\n"
     ]
    }
   ],
   "source": [
    "before.info()"
   ]
  },
  {
   "cell_type": "code",
   "execution_count": 6,
   "metadata": {
    "id": "sWO4yQQMlHay"
   },
   "outputs": [],
   "source": [
    "# 삽관 중에 변수가 없는 행 제외\n",
    "before = before[~(before[['heart_rate', 'sbp', 'dbp', 'mbp', 'resp_rate',\n",
    "       'temperature', 'temperature_site', 'spo2', 'glucose',\n",
    "       'respiratory_rate_set', 'respiratory_rate_total',\n",
    "       'respiratory_rate_spontaneous', 'minute_volume', 'tidal_volume_set',\n",
    "       'tidal_volume_observed', 'tidal_volume_spontaneous', 'plateau_pressure',\n",
    "       'peep', 'fio2', 'flow_rate', 'ventilator_mode',\n",
    "       'ventilator_mode_hamilton', 'ventilator_type', 'ventilator_scoring',\n",
    "       'gcs', 'gcs_motor', 'gcs_verbal', 'gcs_eyes', 'gcs_unable', 'pCO2',\n",
    "       'pO2', 'SaO2', 'HCO3-', 'pH', 'Base excess']].isna().sum(axis = 1) == 35)]"
   ]
  },
  {
   "cell_type": "code",
   "execution_count": 7,
   "metadata": {
    "id": "NdN6N76llLFm"
   },
   "outputs": [],
   "source": [
    "before = before.drop(columns = ['admittime', 'dischtime', 'intubationtime', 'extubationtime', 'charttime','subject_id', 'hadm_id', 'stay_id','Unnamed: 0','class_code'])"
   ]
  },
  {
   "cell_type": "code",
   "execution_count": 8,
   "metadata": {
    "id": "qNzLoIrGlMc0"
   },
   "outputs": [],
   "source": [
    "# 데이터 타입이 object인 컬럼 제외\n",
    "before = before.drop(columns = ['ventilator_mode', 'ventilator_mode_hamilton', 'ventilator_type', 'temperature_site', 'extubationcause','mvtime_state'])"
   ]
  },
  {
   "cell_type": "code",
   "execution_count": 9,
   "metadata": {
    "colab": {
     "base_uri": "https://localhost:8080/",
     "height": 526
    },
    "id": "DsRsXbNwlOVs",
    "outputId": "684a9a1e-1884-4f70-d426-7cad841aab21"
   },
   "outputs": [
    {
     "data": {
      "text/plain": [
       "<AxesSubplot:xlabel='class'>"
      ]
     },
     "execution_count": 9,
     "metadata": {},
     "output_type": "execute_result"
    },
    {
     "data": {
      "image/png": "[encoded data removed]",
      "text/plain": [
       "<Figure size 640x480 with 1 Axes>"
      ]
     },
     "metadata": {},
     "output_type": "display_data"
    }
   ],
   "source": [
    "before['class'].value_counts().plot(kind = 'bar', edgecolor = 'k', alpha = 0.7)\n"
   ]
  },
  {
   "cell_type": "code",
   "execution_count": 10,
   "metadata": {
    "id": "Y4b21H03lQig"
   },
   "outputs": [],
   "source": [
    "# class가 nan인 건 제외\n",
    "before = before[~(before['class'].isna())]"
   ]
  },
  {
   "cell_type": "code",
   "execution_count": 11,
   "metadata": {
    "id": "P8OVvy9elR6E"
   },
   "outputs": [],
   "source": [
    "# gender 맵핑\n",
    "mapping_dict_gender = {'F':1,'M':0}\n",
    "before.gender = before.gender.apply(lambda x : mapping_dict_gender[x])"
   ]
  },
  {
   "cell_type": "code",
   "execution_count": 12,
   "metadata": {
    "id": "kG63JMUDlTSA"
   },
   "outputs": [],
   "source": [
    "# class 맵핑\n",
    "mapping_dict_class = {'failure':0,'nonfailure':1, 'death': 2}\n",
    "before['class'] = before['class'].apply(lambda x : mapping_dict_class[x])"
   ]
  },
  {
   "cell_type": "code",
   "execution_count": 13,
   "metadata": {
    "id": "c5wlFpYtlUj_"
   },
   "outputs": [],
   "source": [
    "before.gender = before.gender.astype('category')\n",
    "before['class'] = before['class'].astype('category')"
   ]
  },
  {
   "cell_type": "code",
   "execution_count": 14,
   "metadata": {
    "id": "1MC4GzQPlXWc"
   },
   "outputs": [],
   "source": [
    "# 결측치 0으로 채움\n",
    "before = before.fillna(0)"
   ]
  },
  {
   "cell_type": "markdown",
   "metadata": {
    "id": "U_Nq_2MlledU"
   },
   "source": [
    "## model"
   ]
  },
  {
   "cell_type": "code",
   "execution_count": 15,
   "metadata": {
    "colab": {
     "base_uri": "https://localhost:8080/"
    },
    "id": "tWz5I4SJledV",
    "outputId": "3f5de210-11dd-4ec2-cac0-895f24ebba6d"
   },
   "outputs": [
    {
     "name": "stdout",
     "output_type": "stream",
     "text": [
      "(571749, 35) (571749,)\n"
     ]
    }
   ],
   "source": [
    "#target 과 X 를 분리함.\n",
    "X = before.drop(columns=\"class\", axis=1)\n",
    "y = before['class']\n",
    "print(X.shape, y.shape)"
   ]
  },
  {
   "cell_type": "code",
   "execution_count": 16,
   "metadata": {
    "colab": {
     "base_uri": "https://localhost:8080/"
    },
    "id": "iDg5LOjamJy_",
    "outputId": "63b2f668-bd0c-4ccd-fafc-793fdb96e3c7"
   },
   "outputs": [
    {
     "name": "stdout",
     "output_type": "stream",
     "text": [
      "<class 'pandas.core.frame.DataFrame'>\n",
      "Index: 571749 entries, 0 to 572621\n",
      "Data columns (total 35 columns):\n",
      " #   Column                        Non-Null Count   Dtype   \n",
      "---  ------                        --------------   -----   \n",
      " 0   los                           571749 non-null  float64 \n",
      " 1   gender                        571749 non-null  category\n",
      " 2   mvtime                        571749 non-null  float64 \n",
      " 3   seq_num                       571749 non-null  int64   \n",
      " 4   heart_rate                    571749 non-null  float64 \n",
      " 5   sbp                           571749 non-null  float64 \n",
      " 6   dbp                           571749 non-null  float64 \n",
      " 7   mbp                           571749 non-null  float64 \n",
      " 8   resp_rate                     571749 non-null  float64 \n",
      " 9   temperature                   571749 non-null  float64 \n",
      " 10  spo2                          571749 non-null  float64 \n",
      " 11  glucose                       571749 non-null  float64 \n",
      " 12  respiratory_rate_set          571749 non-null  float64 \n",
      " 13  respiratory_rate_total        571749 non-null  float64 \n",
      " 14  respiratory_rate_spontaneous  571749 non-null  float64 \n",
      " 15  minute_volume                 571749 non-null  float64 \n",
      " 16  tidal_volume_set              571749 non-null  float64 \n",
      " 17  tidal_volume_observed         571749 non-null  float64 \n",
      " 18  tidal_volume_spontaneous      571749 non-null  float64 \n",
      " 19  plateau_pressure              571749 non-null  float64 \n",
      " 20  peep                          571749 non-null  float64 \n",
      " 21  fio2                          571749 non-null  float64 \n",
      " 22  flow_rate                     571749 non-null  float64 \n",
      " 23  ventilator_scoring            571749 non-null  float64 \n",
      " 24  gcs                           571749 non-null  float64 \n",
      " 25  gcs_motor                     571749 non-null  float64 \n",
      " 26  gcs_verbal                    571749 non-null  float64 \n",
      " 27  gcs_eyes                      571749 non-null  float64 \n",
      " 28  gcs_unable                    571749 non-null  float64 \n",
      " 29  pCO2                          571749 non-null  float64 \n",
      " 30  pO2                           571749 non-null  float64 \n",
      " 31  SaO2                          571749 non-null  float64 \n",
      " 32  HCO3-                         571749 non-null  float64 \n",
      " 33  pH                            571749 non-null  float64 \n",
      " 34  Base excess                   571749 non-null  float64 \n",
      "dtypes: category(1), float64(33), int64(1)\n",
      "memory usage: 153.2 MB\n"
     ]
    }
   ],
   "source": [
    "X.info()"
   ]
  },
  {
   "cell_type": "code",
   "execution_count": 17,
   "metadata": {
    "colab": {
     "base_uri": "https://localhost:8080/"
    },
    "id": "2xMdWbu1ledV",
    "outputId": "da285880-0c18-4f57-a347-cce3e24a19bf"
   },
   "outputs": [
    {
     "name": "stdout",
     "output_type": "stream",
     "text": [
      "(457399, 35) (114350, 35) (457399,) (114350,)\n"
     ]
    }
   ],
   "source": [
    "from sklearn.model_selection import train_test_split\n",
    "seed = 88\n",
    "\n",
    "X_train, X_test, y_train, y_test = train_test_split(X, y, test_size=0.2, random_state=seed, stratify = y)\n",
    "print(X_train.shape, X_test.shape, y_train.shape, y_test.shape)"
   ]
  },
  {
   "cell_type": "code",
   "execution_count": 18,
   "metadata": {
    "colab": {
     "base_uri": "https://localhost:8080/"
    },
    "id": "N4el7ylKledV",
    "outputId": "b6047fe9-200a-4bf9-9137-d2d0d4b720ac"
   },
   "outputs": [
    {
     "name": "stdout",
     "output_type": "stream",
     "text": [
      "(903818, 35) (225955, 35) (903818,) (225955,)\n"
     ]
    }
   ],
   "source": [
    "# smote\n",
    "from imblearn.over_sampling import SMOTE\n",
    "\n",
    "X_resampled, y_resampled = SMOTE(random_state=seed).fit_resample(X, y)\n",
    "\n",
    "X_train_smote, X_test_smote, y_train_smote, y_test_smote = train_test_split(X_resampled, y_resampled, test_size=0.2, random_state=seed)\n",
    "print(X_train_smote.shape, X_test_smote.shape, y_train_smote.shape, y_test_smote.shape)"
   ]
  },
  {
   "cell_type": "code",
   "execution_count": 19,
   "metadata": {
    "colab": {
     "base_uri": "https://localhost:8080/"
    },
    "id": "ulcO9f1tledV",
    "outputId": "805c46dd-fdf7-4db4-cc0a-2e199b35e74a"
   },
   "outputs": [
    {
     "name": "stdout",
     "output_type": "stream",
     "text": [
      "(214812, 35) (53703, 35) (214812,) (53703,)\n"
     ]
    }
   ],
   "source": [
    "# under\n",
    "from imblearn.under_sampling import RandomUnderSampler\n",
    "\n",
    "X_resampled, y_resampled = RandomUnderSampler(random_state=seed).fit_resample(X, y)\n",
    "\n",
    "X_train_under, X_test_under, y_train_under, y_test_under = train_test_split(X_resampled, y_resampled, test_size=0.2, random_state=seed)\n",
    "print(X_train_under.shape, X_test_under.shape, y_train_under.shape, y_test_under.shape)"
   ]
  },
  {
   "cell_type": "code",
   "execution_count": 20,
   "metadata": {
    "colab": {
     "base_uri": "https://localhost:8080/",
     "height": 482
    },
    "id": "uOKNqjp0ledV",
    "outputId": "408d115c-e243-4f98-d7c5-483a52b5162d"
   },
   "outputs": [
    {
     "name": "stdout",
     "output_type": "stream",
     "text": [
      "Class=0, n=89505 (33.333%)\n",
      "Class=1, n=89505 (33.333%)\n",
      "Class=2, n=89505 (33.333%)\n"
     ]
    },
    {
     "data": {
      "image/png": "[encoded data removed]",
      "text/plain": [
       "<Figure size 640x480 with 1 Axes>"
      ]
     },
     "metadata": {},
     "output_type": "display_data"
    }
   ],
   "source": [
    "from collections import Counter\n",
    "from matplotlib import pyplot\n",
    "\n",
    "def count_and_plot(y):\n",
    "    counter = Counter(y)\n",
    "    for k,v in counter.items():\n",
    "        print('Class=%d, n=%d (%.3f%%)' % (k, v, v / len(y) * 100))\n",
    "    pyplot.bar(counter.keys(), counter.values())\n",
    "    pyplot.show()\n",
    "\n",
    "count_and_plot(y_resampled)"
   ]
  },
  {
   "cell_type": "markdown",
   "metadata": {
    "id": "DCqi1dyLledV"
   },
   "source": [
    "### LGBClassifier"
   ]
  },
  {
   "cell_type": "code",
   "execution_count": 21,
   "metadata": {
    "colab": {
     "base_uri": "https://localhost:8080/"
    },
    "id": "I8ytuQmhledV",
    "outputId": "43b5e741-e485-4588-d4c0-43ce79ad0ad7"
   },
   "outputs": [
    {
     "name": "stdout",
     "output_type": "stream",
     "text": [
      "[LightGBM] [Warning] Found whitespace in feature_names, replace with underlines\n",
      "[LightGBM] [Info] Auto-choosing row-wise multi-threading, the overhead of testing was 0.047371 seconds.\n",
      "You can set `force_row_wise=true` to remove the overhead.\n",
      "And if memory is not enough, you can set `force_col_wise=true`.\n",
      "[LightGBM] [Info] Total Bins 4014\n",
      "[LightGBM] [Info] Number of data points in the train set: 457399, number of used features: 35\n",
      "[LightGBM] [Info] Start training from score -1.854405\n",
      "[LightGBM] [Info] Start training from score -0.417539\n",
      "[LightGBM] [Info] Start training from score -1.688544\n",
      "              precision    recall  f1-score   support\n",
      "\n",
      "           0       0.74      0.53      0.62     17901\n",
      "           1       0.79      0.93      0.85     75318\n",
      "           2       0.84      0.49      0.62     21131\n",
      "\n",
      "    accuracy                           0.79    114350\n",
      "   macro avg       0.79      0.65      0.70    114350\n",
      "weighted avg       0.79      0.79      0.77    114350\n",
      "\n"
     ]
    }
   ],
   "source": [
    "from lightgbm.sklearn import LGBMClassifier\n",
    "from sklearn.metrics import classification_report\n",
    "\n",
    "lgb = LGBMClassifier(random_state = seed)\n",
    "lgb.fit(X_train, y_train)\n",
    "\n",
    "pred_lgb = lgb.predict(X_test)\n",
    "print(classification_report(y_test, pred_lgb)) # 0.79"
   ]
  },
  {
   "cell_type": "code",
   "execution_count": 22,
   "metadata": {
    "colab": {
     "base_uri": "https://localhost:8080/"
    },
    "id": "nqrLoNn1ledW",
    "outputId": "b410ca6e-1a67-4d93-c77e-123d517307f9"
   },
   "outputs": [
    {
     "name": "stdout",
     "output_type": "stream",
     "text": [
      "[LightGBM] [Warning] Found whitespace in feature_names, replace with underlines\n",
      "[LightGBM] [Info] Auto-choosing row-wise multi-threading, the overhead of testing was 0.125107 seconds.\n",
      "You can set `force_row_wise=true` to remove the overhead.\n",
      "And if memory is not enough, you can set `force_col_wise=true`.\n",
      "[LightGBM] [Info] Total Bins 8421\n",
      "[LightGBM] [Info] Number of data points in the train set: 903818, number of used features: 35\n",
      "[LightGBM] [Info] Start training from score -1.097818\n",
      "[LightGBM] [Info] Start training from score -1.098707\n",
      "[LightGBM] [Info] Start training from score -1.099312\n",
      "              precision    recall  f1-score   support\n",
      "\n",
      "           0       0.81      0.89      0.85     75079\n",
      "           1       0.77      0.77      0.77     75347\n",
      "           2       0.88      0.80      0.84     75529\n",
      "\n",
      "    accuracy                           0.82    225955\n",
      "   macro avg       0.82      0.82      0.82    225955\n",
      "weighted avg       0.82      0.82      0.82    225955\n",
      "\n"
     ]
    }
   ],
   "source": [
    "# smote\n",
    "lgb = LGBMClassifier(random_state = seed)\n",
    "lgb.fit(X_train_smote, y_train_smote)\n",
    "\n",
    "pred_lgb_smote = lgb.predict(X_test_smote)\n",
    "print(classification_report(y_test_smote, pred_lgb_smote)) #  0.82"
   ]
  },
  {
   "cell_type": "code",
   "execution_count": null,
   "metadata": {
    "colab": {
     "base_uri": "https://localhost:8080/"
    },
    "id": "qbky4qqZledW",
    "outputId": "255837cf-dda9-45c8-80dc-b578e7f4efff"
   },
   "outputs": [
    {
     "name": "stdout",
     "output_type": "stream",
     "text": [
      "[LightGBM] [Warning] Found whitespace in feature_names, replace with underlines\n",
      "[LightGBM] [Info] Auto-choosing row-wise multi-threading, the overhead of testing was 0.023114 seconds.\n",
      "You can set `force_row_wise=true` to remove the overhead.\n",
      "And if memory is not enough, you can set `force_col_wise=true`.\n",
      "[LightGBM] [Info] Total Bins 4111\n",
      "[LightGBM] [Info] Number of data points in the train set: 214812, number of used features: 35\n",
      "[LightGBM] [Info] Start training from score -1.096743\n",
      "[LightGBM] [Info] Start training from score -1.099688\n",
      "[LightGBM] [Info] Start training from score -1.099409\n",
      "              precision    recall  f1-score   support\n",
      "\n",
      "           0       0.77      0.91      0.83     17767\n",
      "           1       0.73      0.61      0.66     17978\n",
      "           2       0.81      0.80      0.80     17958\n",
      "\n",
      "    accuracy                           0.77     53703\n",
      "   macro avg       0.77      0.77      0.77     53703\n",
      "weighted avg       0.77      0.77      0.77     53703\n",
      "\n"
     ]
    }
   ],
   "source": [
    "# under\n",
    "lgb = LGBMClassifier(random_state = seed)\n",
    "lgb.fit(X_train_under, y_train_under)\n",
    "\n",
    "pred_lgb_under = lgb.predict(X_test_under)\n",
    "print(classification_report(y_test_under, pred_lgb_under)) # 0.77"
   ]
  },
  {
   "cell_type": "markdown",
   "metadata": {
    "id": "10-tOWg5ledW"
   },
   "source": [
    "### RandomForestClassifier"
   ]
  },
  {
   "cell_type": "code",
   "execution_count": 24,
   "metadata": {
    "colab": {
     "base_uri": "https://localhost:8080/"
    },
    "id": "DhofH4-gledW",
    "outputId": "fbc285b1-0d69-45da-8661-067e85c73064"
   },
   "outputs": [
    {
     "name": "stdout",
     "output_type": "stream",
     "text": [
      "              precision    recall  f1-score   support\n",
      "\n",
      "           0       0.91      0.69      0.79     17901\n",
      "           1       0.87      0.97      0.92     75318\n",
      "           2       0.91      0.72      0.81     21131\n",
      "\n",
      "    accuracy                           0.88    114350\n",
      "   macro avg       0.90      0.80      0.84    114350\n",
      "weighted avg       0.88      0.88      0.88    114350\n",
      "\n"
     ]
    }
   ],
   "source": [
    "# 아무것도 안 함\n",
    "from sklearn.ensemble import RandomForestClassifier\n",
    "from sklearn.metrics import classification_report\n",
    "\n",
    "rf = RandomForestClassifier(random_state = seed)\n",
    "rf.fit(X_train, y_train)\n",
    "\n",
    "pred_rf = rf.predict(X_test)\n",
    "print(classification_report(y_test, pred_rf)) # 0.88"
   ]
  },
  {
   "cell_type": "code",
   "execution_count": 25,
   "metadata": {
    "colab": {
     "base_uri": "https://localhost:8080/"
    },
    "id": "vZy7PKViledW",
    "outputId": "6d151b83-769f-4530-e862-e5287ea0b016"
   },
   "outputs": [
    {
     "name": "stdout",
     "output_type": "stream",
     "text": [
      "              precision    recall  f1-score   support\n",
      "\n",
      "           0       0.94      0.96      0.95     75079\n",
      "           1       0.92      0.92      0.92     75347\n",
      "           2       0.96      0.94      0.95     75529\n",
      "\n",
      "    accuracy                           0.94    225955\n",
      "   macro avg       0.94      0.94      0.94    225955\n",
      "weighted avg       0.94      0.94      0.94    225955\n",
      "\n"
     ]
    }
   ],
   "source": [
    "# smote\n",
    "rf = RandomForestClassifier(random_state = seed)\n",
    "rf.fit(X_train_smote, y_train_smote)\n",
    "\n",
    "pred_rf_smote = rf.predict(X_test_smote)\n",
    "print(classification_report(y_test_smote, pred_rf_smote)) # 0.94"
   ]
  },
  {
   "cell_type": "code",
   "execution_count": 26,
   "metadata": {
    "colab": {
     "base_uri": "https://localhost:8080/"
    },
    "id": "QOUILxYVledW",
    "outputId": "34fdd138-4901-4b15-d52d-eff0356a88a1"
   },
   "outputs": [
    {
     "name": "stdout",
     "output_type": "stream",
     "text": [
      "              precision    recall  f1-score   support\n",
      "\n",
      "           0       0.83      0.92      0.88     17767\n",
      "           1       0.83      0.74      0.78     17978\n",
      "           2       0.87      0.88      0.88     17958\n",
      "\n",
      "    accuracy                           0.85     53703\n",
      "   macro avg       0.85      0.85      0.84     53703\n",
      "weighted avg       0.85      0.85      0.84     53703\n",
      "\n"
     ]
    }
   ],
   "source": [
    "# under\n",
    "rf = RandomForestClassifier(random_state = seed)\n",
    "rf.fit(X_train_under, y_train_under)\n",
    "\n",
    "pred_rf_under = rf.predict(X_test_under)\n",
    "print(classification_report(y_test_under, pred_rf_under)) # 0.85"
   ]
  },
  {
   "cell_type": "code",
   "execution_count": 27,
   "metadata": {
    "colab": {
     "base_uri": "https://localhost:8080/"
    },
    "id": "tOjpEvGMledW",
    "outputId": "a606cb81-b141-48ad-d2a2-1fa2fc2415d5"
   },
   "outputs": [
    {
     "name": "stdout",
     "output_type": "stream",
     "text": [
      "              precision    recall  f1-score   support\n",
      "\n",
      "           0       0.89      0.65      0.75     17901\n",
      "           1       0.85      0.97      0.91     75318\n",
      "           2       0.91      0.70      0.79     21131\n",
      "\n",
      "    accuracy                           0.87    114350\n",
      "   macro avg       0.89      0.77      0.82    114350\n",
      "weighted avg       0.87      0.87      0.86    114350\n",
      "\n"
     ]
    }
   ],
   "source": [
    "# Cost sensitive\n",
    "\n",
    "weights = {0:1.0, 1:1.5, 2:2.0}\n",
    "rf = RandomForestClassifier(random_state = seed, class_weight=weights)\n",
    "rf.fit(X_train, y_train)\n",
    "\n",
    "pred_rf = rf.predict(X_test)\n",
    "print(classification_report(y_test, pred_rf)) # 0.87"
   ]
  },
  {
   "cell_type": "markdown",
   "metadata": {
    "id": "t4TmR1CHledW"
   },
   "source": [
    "### XGBoost"
   ]
  },
  {
   "cell_type": "code",
   "execution_count": null,
   "metadata": {
    "colab": {
     "base_uri": "https://localhost:8080/"
    },
    "id": "zwaJGKncledW",
    "outputId": "e98dbce6-1a5c-49a2-9171-3f59151274e7"
   },
   "outputs": [
    {
     "name": "stdout",
     "output_type": "stream",
     "text": [
      "              precision    recall  f1-score   support\n",
      "\n",
      "           0       0.85      0.64      0.73     17901\n",
      "           1       0.83      0.95      0.89     75318\n",
      "           2       0.88      0.61      0.72     21131\n",
      "\n",
      "    accuracy                           0.84    114350\n",
      "   macro avg       0.85      0.73      0.78    114350\n",
      "weighted avg       0.84      0.84      0.83    114350\n",
      "\n"
     ]
    }
   ],
   "source": [
    "# XGBBoost\n",
    "from xgboost.sklearn import XGBClassifier\n",
    "\n",
    "xgb = XGBClassifier(random_state = seed, enable_categorical=True)\n",
    "xgb.fit(X_train, y_train)\n",
    "\n",
    "pred_xgb = xgb.predict(X_test)\n",
    "print(classification_report(y_test, pred_xgb)) # 0.84"
   ]
  },
  {
   "cell_type": "code",
   "execution_count": null,
   "metadata": {
    "colab": {
     "base_uri": "https://localhost:8080/"
    },
    "id": "giAhtrWoledW",
    "outputId": "a282c59e-6d14-48e9-a4ea-22c51b617364"
   },
   "outputs": [
    {
     "name": "stdout",
     "output_type": "stream",
     "text": [
      "              precision    recall  f1-score   support\n",
      "\n",
      "           0       0.84      0.90      0.87     75079\n",
      "           1       0.81      0.81      0.81     75347\n",
      "           2       0.90      0.83      0.87     75529\n",
      "\n",
      "    accuracy                           0.85    225955\n",
      "   macro avg       0.85      0.85      0.85    225955\n",
      "weighted avg       0.85      0.85      0.85    225955\n",
      "\n"
     ]
    }
   ],
   "source": [
    "# smote\n",
    "xgb = XGBClassifier(random_state = seed, enable_categorical=True)\n",
    "xgb.fit(X_train_smote, y_train_smote)\n",
    "\n",
    "pred_xgb_smote = xgb.predict(X_test_smote)\n",
    "print(classification_report(y_test_smote, pred_xgb_smote)) #  0.85"
   ]
  },
  {
   "cell_type": "code",
   "execution_count": null,
   "metadata": {
    "colab": {
     "base_uri": "https://localhost:8080/"
    },
    "id": "eJF3WRwEledX",
    "outputId": "dce9bed3-6f73-40e6-87dc-c248a8366d5f"
   },
   "outputs": [
    {
     "name": "stdout",
     "output_type": "stream",
     "text": [
      "              precision    recall  f1-score   support\n",
      "\n",
      "           0       0.81      0.95      0.87     17767\n",
      "           1       0.82      0.69      0.75     17978\n",
      "           2       0.86      0.85      0.86     17958\n",
      "\n",
      "    accuracy                           0.83     53703\n",
      "   macro avg       0.83      0.83      0.83     53703\n",
      "weighted avg       0.83      0.83      0.83     53703\n",
      "\n"
     ]
    }
   ],
   "source": [
    "# under\n",
    "xgb = XGBClassifier(random_state = seed, enable_categorical=True)\n",
    "xgb.fit(X_train_under, y_train_under)\n",
    "\n",
    "pred_xgb_under = xgb.predict(X_test_under)\n",
    "print(classification_report(y_test_under, pred_xgb_under)) # 0.83"
   ]
  }
 ],
 "metadata": {
  "colab": {
   "provenance": [],
   "toc_visible": true
  },
  "kernelspec": {
   "display_name": "Python 3",
   "name": "python3"
  },
  "language_info": {
   "codemirror_mode": {
    "name": "ipython",
    "version": 3
   },
   "file_extension": ".py",
   "mimetype": "text/x-python",
   "name": "python",
   "nbconvert_exporter": "python",
   "pygments_lexer": "ipython3",
   "version": "3.9.7"
  }
 },
 "nbformat": 4,
 "nbformat_minor": 0
}
